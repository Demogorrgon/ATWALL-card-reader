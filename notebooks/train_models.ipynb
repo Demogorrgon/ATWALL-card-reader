{
 "cells": [
  {
   "cell_type": "code",
   "execution_count": 7,
   "metadata": {
    "collapsed": true
   },
   "outputs": [
    {
     "name": "stdout",
     "output_type": "stream",
     "text": [
      "^C\n"
     ]
    }
   ],
   "source": [
    "# Train card detector based on pipeline.config\n",
    "\n",
    "!python model_main_tf2.py --model_dir=./models/my_frcnn_resnet50_v1 --pipeline_config_path=./models/my_frcnn_resnet50_v1/pipeline.config"
   ]
  },
  {
   "cell_type": "code",
   "execution_count": 8,
   "outputs": [
    {
     "name": "stdout",
     "output_type": "stream",
     "text": [
      "^C\n"
     ]
    }
   ],
   "source": [
    "# Export the trained card detector\n",
    "\n",
    "!python exporter_main_v2.py --input_type image_tensor --pipeline_config_path ./models/my_frcnn_resnet50_v1/pipeline.config --trained_checkpoint_dir ./models/my_frcnn_resnet50_v1/ --output_directory ./exported-models/my_model"
   ],
   "metadata": {
    "collapsed": false
   }
  },
  {
   "cell_type": "code",
   "execution_count": null,
   "outputs": [],
   "source": [
    "# Train text detector based on pipeline.config\n",
    "\n",
    "!python model_main_tf2.py --model_dir=./models/my_frcnn_resnet50_v1_text_detector --pipeline_config_path=./models/my_frcnn_resnet50_v1_text_detector/pipeline.config"
   ],
   "metadata": {
    "collapsed": false
   }
  },
  {
   "cell_type": "code",
   "execution_count": null,
   "outputs": [],
   "source": [
    "# Export the trained text detector\n",
    "\n",
    "!python exporter_main_v2.py --input_type image_tensor --pipeline_config_path ./models/my_frcnn_resnet50_v1_text_detector/pipeline.config --trained_checkpoint_dir ./models/my_frcnn_resnet50_v1_text_detector/ --output_directory ./exported-models/my_text_detector"
   ],
   "metadata": {
    "collapsed": false
   }
  }
 ],
 "metadata": {
  "kernelspec": {
   "display_name": "Python 3",
   "language": "python",
   "name": "python3"
  },
  "language_info": {
   "codemirror_mode": {
    "name": "ipython",
    "version": 2
   },
   "file_extension": ".py",
   "mimetype": "text/x-python",
   "name": "python",
   "nbconvert_exporter": "python",
   "pygments_lexer": "ipython2",
   "version": "2.7.6"
  }
 },
 "nbformat": 4,
 "nbformat_minor": 0
}
