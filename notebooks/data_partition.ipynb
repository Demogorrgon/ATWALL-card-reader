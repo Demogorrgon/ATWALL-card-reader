{
 "cells": [
  {
   "cell_type": "code",
   "execution_count": null,
   "outputs": [],
   "source": [
    "import os\n",
    "import random\n",
    "import shutil\n",
    "\n",
    "curr_dirname = os.getcwd()\n",
    "\n",
    "# Set the path to the images folder\n",
    "source = os.path.join(curr_dirname, os.pardir, \"images/raw\")\n",
    "\n",
    "# Set the path to the train and test folders\n",
    "dest = os.path.join(curr_dirname, os.pardir, \"images\")\n",
    "\n",
    "train_dest = os.path.join(dest, \"train\")\n",
    "test_dest = os.path.join(dest, \"test\")\n",
    "\n",
    "# Create the train and test folders if they don't exist\n",
    "os.makedirs(train_dest, exist_ok=True)\n",
    "os.makedirs(test_dest, exist_ok=True)\n",
    "\n",
    "# Set the ratio of images to be used for testing (e.g., 0.1 for 10%)\n",
    "test_ratio = 0.1\n",
    "\n",
    "# Get the list of file names in the images folder\n",
    "file_names = os.listdir(source)\n",
    "\n",
    "# Calculate the number of files for testing based on the test ratio\n",
    "num_test_files = int(len(file_names) * test_ratio)\n",
    "\n",
    "# Randomly select files for testing\n",
    "test_files = random.sample(file_names, num_test_files)\n",
    "\n",
    "# Move the test files to the test folder\n",
    "for file_name in test_files:\n",
    "    src = os.path.join(source, file_name)\n",
    "    dst = os.path.join(test_dest, file_name)\n",
    "\n",
    "    shutil.copy(src, dst)\n",
    "\n",
    "# Move the remaining files to the train folder\n",
    "for file_name in file_names:\n",
    "    if file_name not in test_files:\n",
    "        src = os.path.join(source, file_name)\n",
    "        dst = os.path.join(train_dest, file_name)\n",
    "\n",
    "        shutil.copy(src, dst)"
   ],
   "metadata": {
    "collapsed": false
   }
  }
 ],
 "metadata": {
  "kernelspec": {
   "display_name": "Python 3",
   "language": "python",
   "name": "python3"
  },
  "language_info": {
   "codemirror_mode": {
    "name": "ipython",
    "version": 2
   },
   "file_extension": ".py",
   "mimetype": "text/x-python",
   "name": "python",
   "nbconvert_exporter": "python",
   "pygments_lexer": "ipython2",
   "version": "2.7.6"
  }
 },
 "nbformat": 4,
 "nbformat_minor": 0
}
