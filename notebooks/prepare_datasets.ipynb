{
 "cells": [
  {
   "cell_type": "code",
   "execution_count": null,
   "metadata": {
    "collapsed": true
   },
   "outputs": [],
   "source": [
    "from helpers.tf_record import create_tf_record\n",
    "from helpers.txt_to_df import txt_to_df\n",
    "from helpers.xml_to_df import xml_to_df"
   ]
  },
  {
   "cell_type": "code",
   "execution_count": null,
   "outputs": [],
   "source": [
    "# TODO: to make it look better, env variables can be used and configured on the machine\n",
    "\n",
    "# Prepare card detector dataset\n",
    "create_tf_record(\n",
    "    images_dir=\"images/train\",\n",
    "    tf_record_filename=\"1_342_train\",\n",
    "    label_map_file_name=\"label_map\",\n",
    "    annotations_path=\"1_342\",\n",
    "    processor=xml_to_df,\n",
    ")\n",
    "create_tf_record(\n",
    "    images_dir=\"images/test\",\n",
    "    tf_record_filename=\"1_342_test\",\n",
    "    label_map_file_name=\"label_map\",\n",
    "    annotations_path=\"1_342\",\n",
    "    processor=xml_to_df,\n",
    ")"
   ],
   "metadata": {
    "collapsed": false
   }
  },
  {
   "cell_type": "code",
   "execution_count": null,
   "outputs": [],
   "source": [
    "# Prepare digit detector dataset\n",
    "\n",
    "create_tf_record(\n",
    "    images_dir=\"images/icdar_2013_images/train\",\n",
    "    tf_record_filename=\"icdar_2013/train.tfrecord\",\n",
    "    label_map_file_name=\"icdar_2013/label_map\",\n",
    "    annotations_path=\"icdar_2013/train\",\n",
    "    processor=txt_to_df,\n",
    ")\n",
    "create_tf_record(\n",
    "    images_dir=\"images/icdar_2013_images/test\",\n",
    "    tf_record_filename=\"icdar_2013/test.tfrecord\",\n",
    "    label_map_file_name=\"icdar_2013/label_map\",\n",
    "    annotations_path=\"icdar_2013/test\",\n",
    "    processor=txt_to_df,\n",
    ")"
   ],
   "metadata": {
    "collapsed": false
   }
  }
 ],
 "metadata": {
  "kernelspec": {
   "display_name": "Python 3",
   "language": "python",
   "name": "python3"
  },
  "language_info": {
   "codemirror_mode": {
    "name": "ipython",
    "version": 2
   },
   "file_extension": ".py",
   "mimetype": "text/x-python",
   "name": "python",
   "nbconvert_exporter": "python",
   "pygments_lexer": "ipython2",
   "version": "2.7.6"
  }
 },
 "nbformat": 4,
 "nbformat_minor": 0
}
